{
 "cells": [
  {
   "cell_type": "code",
   "execution_count": 11,
   "metadata": {},
   "outputs": [],
   "source": [
    "import pandas as pd"
   ]
  },
  {
   "cell_type": "code",
   "execution_count": 17,
   "metadata": {},
   "outputs": [],
   "source": [
    "from src.Classifier import Classifier"
   ]
  },
  {
   "cell_type": "code",
   "execution_count": 13,
   "metadata": {},
   "outputs": [],
   "source": [
    "data=pd.read_csv(\"data/train.csv\")\n",
    "test=pd.read_csv(\"data/test.csv\")"
   ]
  },
  {
   "cell_type": "code",
   "execution_count": 16,
   "metadata": {},
   "outputs": [],
   "source": [
    "y=data[\"LABEL\"]\n",
    "x=data.drop([\"LABEL\"],axis=1)"
   ]
  },
  {
   "cell_type": "code",
   "execution_count": 15,
   "metadata": {},
   "outputs": [
    {
     "ename": "NameError",
     "evalue": "name 'le' is not defined",
     "output_type": "error",
     "traceback": [
      "\u001b[0;31m---------------------------------------------------------------------------\u001b[0m",
      "\u001b[0;31mNameError\u001b[0m                                 Traceback (most recent call last)",
      "Cell \u001b[0;32mIn[15], line 2\u001b[0m\n\u001b[1;32m      1\u001b[0m clf\u001b[39m=\u001b[39mClassifier()\n\u001b[0;32m----> 2\u001b[0m clf\u001b[39m.\u001b[39;49mfit(x,y)\n\u001b[1;32m      3\u001b[0m clf\u001b[39m=\u001b[39mClassifier()\n\u001b[1;32m      4\u001b[0m clf\u001b[39m.\u001b[39mfit(x,y)\n",
      "File \u001b[0;32m~/NLP/term-project-option-kaggle-competition-thanooshakarri/src/Classifier.py:27\u001b[0m, in \u001b[0;36mClassifier.fit\u001b[0;34m(self, data, label)\u001b[0m\n\u001b[1;32m     25\u001b[0m data[\u001b[39m\"\u001b[39m\u001b[39mTEXT\u001b[39m\u001b[39m\"\u001b[39m]\u001b[39m=\u001b[39mdata[\u001b[39m\"\u001b[39m\u001b[39mTEXT\u001b[39m\u001b[39m\"\u001b[39m]\u001b[39m.\u001b[39mastype(\u001b[39mstr\u001b[39m)\n\u001b[1;32m     26\u001b[0m pre_processed_data\u001b[39m=\u001b[39m\u001b[39mself\u001b[39m\u001b[39m.\u001b[39mfeature_obj\u001b[39m.\u001b[39mget_features(data)\n\u001b[0;32m---> 27\u001b[0m \u001b[39mself\u001b[39m\u001b[39m.\u001b[39mLogistic_R\u001b[39m.\u001b[39mfit(pre_processed_data,le\u001b[39m.\u001b[39mtransform(label))\n",
      "\u001b[0;31mNameError\u001b[0m: name 'le' is not defined"
     ]
    }
   ],
   "source": [
    "clf=Classifier()\n",
    "clf.fit(x,y)\n",
    "clf=Classifier()\n",
    "clf.fit(x,y)\n",
    "label=clf.predict(test)"
   ]
  }
 ],
 "metadata": {
  "kernelspec": {
   "display_name": "Python 3",
   "language": "python",
   "name": "python3"
  },
  "language_info": {
   "codemirror_mode": {
    "name": "ipython",
    "version": 3
   },
   "file_extension": ".py",
   "mimetype": "text/x-python",
   "name": "python",
   "nbconvert_exporter": "python",
   "pygments_lexer": "ipython3",
   "version": "3.10.6"
  },
  "orig_nbformat": 4
 },
 "nbformat": 4,
 "nbformat_minor": 2
}
